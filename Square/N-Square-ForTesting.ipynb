{
 "cells": [
  {
   "cell_type": "code",
   "execution_count": 1,
   "metadata": {},
   "outputs": [],
   "source": [
    "import numpy as np\n",
    "import time"
   ]
  },
  {
   "cell_type": "code",
   "execution_count": 2,
   "metadata": {},
   "outputs": [],
   "source": [
    "def NSquare(number) :\n",
    "    start = time.time()\n",
    "    if (number % 2) == 0 : \n",
    "        N = number+1\n",
    "    else : \n",
    "        N = number\n",
    "    magic_square = np.zeros((N,N), dtype=int)\n",
    "    n = 1\n",
    "    i, j = 0, N//2\n",
    "    while n <= N**2:\n",
    "        magic_square[i, j] = n\n",
    "        n += 1\n",
    "        newi, newj = (i-1) % N, (j+1)% N\n",
    "        if magic_square[newi, newj]:\n",
    "            i += 1\n",
    "        else:\n",
    "            i, j = newi, newj\n",
    "    end = time.time()\n",
    "    print(magic_square)\n",
    "    print(\"\\nExecution time : \", round(end-start,2),\"s\")\n",
    "    print(\"--------------------------\")"
   ]
  },
  {
   "cell_type": "code",
   "execution_count": 3,
   "metadata": {},
   "outputs": [
    {
     "name": "stdout",
     "output_type": "stream",
     "text": [
      "Starting N-Square problem with N = 5 ...\n",
      "--------------------------\n",
      "[[17 24  1  8 15]\n",
      " [23  5  7 14 16]\n",
      " [ 4  6 13 20 22]\n",
      " [10 12 19 21  3]\n",
      " [11 18 25  2  9]]\n",
      "\n",
      "Execution time :  0.0 s\n",
      "--------------------------\n"
     ]
    }
   ],
   "source": [
    "print(\"Starting N-Square problem with N = 5 ...\")\n",
    "print(\"--------------------------\")\n",
    "NSquare(5)"
   ]
  },
  {
   "cell_type": "code",
   "execution_count": 4,
   "metadata": {},
   "outputs": [
    {
     "name": "stdout",
     "output_type": "stream",
     "text": [
      "Starting N-Square problem with N = 7 ...\n",
      "--------------------------\n",
      "[[30 39 48  1 10 19 28]\n",
      " [38 47  7  9 18 27 29]\n",
      " [46  6  8 17 26 35 37]\n",
      " [ 5 14 16 25 34 36 45]\n",
      " [13 15 24 33 42 44  4]\n",
      " [21 23 32 41 43  3 12]\n",
      " [22 31 40 49  2 11 20]]\n",
      "\n",
      "Execution time :  0.0 s\n",
      "--------------------------\n"
     ]
    }
   ],
   "source": [
    "print(\"Starting N-Square problem with N = 7 ...\")\n",
    "print(\"--------------------------\")\n",
    "NSquare(7)"
   ]
  },
  {
   "cell_type": "code",
   "execution_count": 5,
   "metadata": {},
   "outputs": [
    {
     "name": "stdout",
     "output_type": "stream",
     "text": [
      "Starting N-Square problem with N = 9 ...\n",
      "--------------------------\n",
      "[[47 58 69 80  1 12 23 34 45]\n",
      " [57 68 79  9 11 22 33 44 46]\n",
      " [67 78  8 10 21 32 43 54 56]\n",
      " [77  7 18 20 31 42 53 55 66]\n",
      " [ 6 17 19 30 41 52 63 65 76]\n",
      " [16 27 29 40 51 62 64 75  5]\n",
      " [26 28 39 50 61 72 74  4 15]\n",
      " [36 38 49 60 71 73  3 14 25]\n",
      " [37 48 59 70 81  2 13 24 35]]\n",
      "\n",
      "Execution time :  0.0 s\n",
      "--------------------------\n"
     ]
    }
   ],
   "source": [
    "print(\"Starting N-Square problem with N = 9 ...\")\n",
    "print(\"--------------------------\")\n",
    "NSquare(9)"
   ]
  },
  {
   "cell_type": "code",
   "execution_count": 6,
   "metadata": {},
   "outputs": [
    {
     "name": "stdout",
     "output_type": "stream",
     "text": [
      "Starting N-Square problem with N = 11 ...\n",
      "--------------------------\n",
      "[[ 68  81  94 107 120   1  14  27  40  53  66]\n",
      " [ 80  93 106 119  11  13  26  39  52  65  67]\n",
      " [ 92 105 118  10  12  25  38  51  64  77  79]\n",
      " [104 117   9  22  24  37  50  63  76  78  91]\n",
      " [116   8  21  23  36  49  62  75  88  90 103]\n",
      " [  7  20  33  35  48  61  74  87  89 102 115]\n",
      " [ 19  32  34  47  60  73  86  99 101 114   6]\n",
      " [ 31  44  46  59  72  85  98 100 113   5  18]\n",
      " [ 43  45  58  71  84  97 110 112   4  17  30]\n",
      " [ 55  57  70  83  96 109 111   3  16  29  42]\n",
      " [ 56  69  82  95 108 121   2  15  28  41  54]]\n",
      "\n",
      "Execution time :  0.0 s\n",
      "--------------------------\n"
     ]
    }
   ],
   "source": [
    "print(\"Starting N-Square problem with N = 11 ...\")\n",
    "print(\"--------------------------\")\n",
    "NSquare(11)"
   ]
  },
  {
   "cell_type": "code",
   "execution_count": 7,
   "metadata": {},
   "outputs": [
    {
     "name": "stdout",
     "output_type": "stream",
     "text": [
      "Starting N-Square problem with N = 13 ...\n",
      "--------------------------\n",
      "[[ 93 108 123 138 153 168   1  16  31  46  61  76  91]\n",
      " [107 122 137 152 167  13  15  30  45  60  75  90  92]\n",
      " [121 136 151 166  12  14  29  44  59  74  89 104 106]\n",
      " [135 150 165  11  26  28  43  58  73  88 103 105 120]\n",
      " [149 164  10  25  27  42  57  72  87 102 117 119 134]\n",
      " [163   9  24  39  41  56  71  86 101 116 118 133 148]\n",
      " [  8  23  38  40  55  70  85 100 115 130 132 147 162]\n",
      " [ 22  37  52  54  69  84  99 114 129 131 146 161   7]\n",
      " [ 36  51  53  68  83  98 113 128 143 145 160   6  21]\n",
      " [ 50  65  67  82  97 112 127 142 144 159   5  20  35]\n",
      " [ 64  66  81  96 111 126 141 156 158   4  19  34  49]\n",
      " [ 78  80  95 110 125 140 155 157   3  18  33  48  63]\n",
      " [ 79  94 109 124 139 154 169   2  17  32  47  62  77]]\n",
      "\n",
      "Execution time :  0.0 s\n",
      "--------------------------\n"
     ]
    }
   ],
   "source": [
    "print(\"Starting N-Square problem with N = 13 ...\")\n",
    "print(\"--------------------------\")\n",
    "NSquare(13)"
   ]
  },
  {
   "cell_type": "code",
   "execution_count": null,
   "metadata": {},
   "outputs": [],
   "source": []
  }
 ],
 "metadata": {
  "kernelspec": {
   "display_name": "Python 3",
   "language": "python",
   "name": "python3"
  },
  "language_info": {
   "codemirror_mode": {
    "name": "ipython",
    "version": 3
   },
   "file_extension": ".py",
   "mimetype": "text/x-python",
   "name": "python",
   "nbconvert_exporter": "python",
   "pygments_lexer": "ipython3",
   "version": "3.7.4"
  }
 },
 "nbformat": 4,
 "nbformat_minor": 2
}
