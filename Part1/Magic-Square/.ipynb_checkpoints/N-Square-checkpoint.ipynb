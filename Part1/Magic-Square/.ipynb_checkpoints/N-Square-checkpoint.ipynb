{
 "cells": [
  {
   "cell_type": "code",
   "execution_count": 1,
   "metadata": {},
   "outputs": [],
   "source": [
    "import numpy as np\n",
    "import time"
   ]
  },
  {
   "cell_type": "code",
   "execution_count": 2,
   "metadata": {},
   "outputs": [
    {
     "name": "stdout",
     "output_type": "stream",
     "text": [
      "Starting N-Square problem ...\n",
      "Input N : \n",
      "11\n"
     ]
    }
   ],
   "source": [
    "print(\"Starting N-Square problem ...\")\n",
    "start = time.time()\n",
    "print (\"Input N : \")\n",
    "N = int(input())"
   ]
  },
  {
   "cell_type": "code",
   "execution_count": 3,
   "metadata": {},
   "outputs": [
    {
     "name": "stdout",
     "output_type": "stream",
     "text": [
      "[[ 68  81  94 107 120   1  14  27  40  53  66]\n",
      " [ 80  93 106 119  11  13  26  39  52  65  67]\n",
      " [ 92 105 118  10  12  25  38  51  64  77  79]\n",
      " [104 117   9  22  24  37  50  63  76  78  91]\n",
      " [116   8  21  23  36  49  62  75  88  90 103]\n",
      " [  7  20  33  35  48  61  74  87  89 102 115]\n",
      " [ 19  32  34  47  60  73  86  99 101 114   6]\n",
      " [ 31  44  46  59  72  85  98 100 113   5  18]\n",
      " [ 43  45  58  71  84  97 110 112   4  17  30]\n",
      " [ 55  57  70  83  96 109 111   3  16  29  42]\n",
      " [ 56  69  82  95 108 121   2  15  28  41  54]]\n"
     ]
    }
   ],
   "source": [
    "magic_square = np.zeros((N,N), dtype=int)\n",
    "\n",
    "n = 1\n",
    "i, j = 0, N//2\n",
    "\n",
    "while n <= N**2:\n",
    "    magic_square[i, j] = n\n",
    "    n += 1\n",
    "    newi, newj = (i-1) % N, (j+1)% N\n",
    "    if magic_square[newi, newj]:\n",
    "        i += 1\n",
    "    else:\n",
    "        i, j = newi, newj\n",
    "\n",
    "print(magic_square)"
   ]
  },
  {
   "cell_type": "code",
   "execution_count": 4,
   "metadata": {},
   "outputs": [],
   "source": [
    "end = time.time()\n"
   ]
  },
  {
   "cell_type": "code",
   "execution_count": 5,
   "metadata": {},
   "outputs": [
    {
     "name": "stdout",
     "output_type": "stream",
     "text": [
      "[[ 68  81  94 107 120   1  14  27  40  53  66]\n",
      " [ 80  93 106 119  11  13  26  39  52  65  67]\n",
      " [ 92 105 118  10  12  25  38  51  64  77  79]\n",
      " [104 117   9  22  24  37  50  63  76  78  91]\n",
      " [116   8  21  23  36  49  62  75  88  90 103]\n",
      " [  7  20  33  35  48  61  74  87  89 102 115]\n",
      " [ 19  32  34  47  60  73  86  99 101 114   6]\n",
      " [ 31  44  46  59  72  85  98 100 113   5  18]\n",
      " [ 43  45  58  71  84  97 110 112   4  17  30]\n",
      " [ 55  57  70  83  96 109 111   3  16  29  42]\n",
      " [ 56  69  82  95 108 121   2  15  28  41  54]]\n",
      "\n",
      "Execution time :  1.37 s\n",
      "--------------------------\n"
     ]
    }
   ],
   "source": [
    "print(magic_square)\n",
    "print(\"\\nExecution time : \", round(end-start,2),\"s\")\n",
    "print(\"--------------------------\")"
   ]
  },
  {
   "cell_type": "code",
   "execution_count": null,
   "metadata": {},
   "outputs": [],
   "source": []
  }
 ],
 "metadata": {
  "kernelspec": {
   "display_name": "Python 3",
   "language": "python",
   "name": "python3"
  },
  "language_info": {
   "codemirror_mode": {
    "name": "ipython",
    "version": 3
   },
   "file_extension": ".py",
   "mimetype": "text/x-python",
   "name": "python",
   "nbconvert_exporter": "python",
   "pygments_lexer": "ipython3",
   "version": "3.7.4"
  }
 },
 "nbformat": 4,
 "nbformat_minor": 2
}
